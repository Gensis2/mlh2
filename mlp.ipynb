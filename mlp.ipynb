{
 "cells": [
  {
   "cell_type": "code",
   "execution_count": 4,
   "id": "3a6a326b",
   "metadata": {},
   "outputs": [],
   "source": [
    "# Multilayer perceptron\n",
    "from sklearn.datasets import fetch_openml\n",
    "from sklearn.neural_network import MLPClassifier\n",
    "from sklearn.model_selection import train_test_split\n",
    "from sklearn.metrics import accuracy_score"
   ]
  },
  {
   "cell_type": "code",
   "execution_count": 7,
   "id": "6a00791d",
   "metadata": {},
   "outputs": [],
   "source": [
    "# Load and partition MNIST dataset\n",
    "X, y = fetch_openml(\"mnist_784\", version = 1, return_X_y = True)\n",
    "\n",
    "# Create partitions of training and testing\n",
    "X_train, X_test, y_train, y_test = train_test_split(X/255., y, test_size = 0.20, random_state = 1)"
   ]
  },
  {
   "cell_type": "code",
   "execution_count": 11,
   "id": "3d50043c",
   "metadata": {},
   "outputs": [
    {
     "name": "stdout",
     "output_type": "stream",
     "text": [
      "Iteration 1, loss = 0.31705153\n",
      "Iteration 2, loss = 0.09580447\n",
      "Iteration 3, loss = 0.06747245\n",
      "Iteration 4, loss = 0.04585065\n",
      "Iteration 5, loss = 0.03469697\n",
      "Iteration 6, loss = 0.02851089\n",
      "Iteration 7, loss = 0.02191160\n",
      "Iteration 8, loss = 0.01774399\n",
      "Iteration 9, loss = 0.02096212\n",
      "Iteration 10, loss = 0.01400819\n",
      "Iteration 11, loss = 0.01615047\n",
      "Iteration 12, loss = 0.01537986\n",
      "Iteration 13, loss = 0.00985183\n",
      "Iteration 14, loss = 0.00894423\n",
      "Iteration 15, loss = 0.01358275\n",
      "Iteration 16, loss = 0.00871856\n",
      "Iteration 17, loss = 0.00708838\n",
      "Iteration 18, loss = 0.00337087\n",
      "Iteration 19, loss = 0.00358374\n",
      "Iteration 20, loss = 0.00160321\n",
      "Iteration 21, loss = 0.00293536\n",
      "Iteration 22, loss = 0.00567346\n",
      "Iteration 23, loss = 0.00443977\n",
      "Iteration 24, loss = 0.00595200\n",
      "Iteration 25, loss = 0.01415977\n",
      "Iteration 26, loss = 0.00649029\n",
      "Iteration 27, loss = 0.00216694\n",
      "Iteration 28, loss = 0.00406428\n",
      "Iteration 29, loss = 0.00154872\n",
      "Iteration 30, loss = 0.00088380\n",
      "Iteration 31, loss = 0.00075248\n",
      "Iteration 32, loss = 0.00056379\n",
      "Iteration 33, loss = 0.00055211\n",
      "Iteration 34, loss = 0.00054665\n",
      "Iteration 35, loss = 0.00054312\n",
      "Iteration 36, loss = 0.00054041\n",
      "Iteration 37, loss = 0.00053825\n",
      "Iteration 38, loss = 0.00053649\n",
      "Iteration 39, loss = 0.00053497\n",
      "Iteration 40, loss = 0.00053366\n",
      "Iteration 41, loss = 0.00053255\n",
      "Iteration 42, loss = 0.00053154\n",
      "Iteration 43, loss = 0.00053065\n",
      "Training loss did not improve more than tol=0.000100 for 10 consecutive epochs. Stopping.\n"
     ]
    },
    {
     "data": {
      "text/plain": [
       "MLPClassifier(hidden_layer_sizes=(784, 100, 10), learning_rate_init=0.1,\n",
       "              max_iter=50, random_state=1, solver='sgd', verbose=True)"
      ]
     },
     "execution_count": 11,
     "metadata": {},
     "output_type": "execute_result"
    }
   ],
   "source": [
    "# Build an MLP network\n",
    "mlp = MLPClassifier(solver = \"sgd\", max_iter = 50, verbose = True, random_state = 1, learning_rate_init = .1, hidden_layer_sizes = (784, 100, 10))\n",
    "mlp.fit(X_train, y_train)"
   ]
  },
  {
   "cell_type": "code",
   "execution_count": 12,
   "id": "73167e55",
   "metadata": {},
   "outputs": [
    {
     "name": "stdout",
     "output_type": "stream",
     "text": [
      "Multiplater Perceptron: Accuracy for taining is 1.00\n",
      "Multiplater Perceptron: Accuracy for testing is 0.98\n"
     ]
    }
   ],
   "source": [
    "# Make predictions with our new classifier\n",
    "yhat_train_mlp = mlp.predict(X_train)\n",
    "yhat_test_mlp = mlp.predict(X_test)\n",
    "print(\"Multiplater Perceptron: Accuracy for taining is %.2f\" % (accuracy_score(y_train, yhat_train_mlp)))\n",
    "print(\"Multiplater Perceptron: Accuracy for testing is %.2f\" % (accuracy_score(y_test, yhat_test_mlp)))"
   ]
  },
  {
   "cell_type": "code",
   "execution_count": null,
   "id": "6c8df494",
   "metadata": {},
   "outputs": [],
   "source": []
  }
 ],
 "metadata": {
  "kernelspec": {
   "display_name": "Python 3 (ipykernel)",
   "language": "python",
   "name": "python3"
  },
  "language_info": {
   "codemirror_mode": {
    "name": "ipython",
    "version": 3
   },
   "file_extension": ".py",
   "mimetype": "text/x-python",
   "name": "python",
   "nbconvert_exporter": "python",
   "pygments_lexer": "ipython3",
   "version": "3.9.13"
  }
 },
 "nbformat": 4,
 "nbformat_minor": 5
}
